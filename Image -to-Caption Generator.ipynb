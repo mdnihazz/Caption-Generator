{
 "cells": [
  {
   "cell_type": "code",
   "execution_count": 1,
   "id": "2c1be12b",
   "metadata": {},
   "outputs": [],
   "source": [
    "#!pip install transformers streamlit torch dill\n",
    "from transformers import VisionEncoderDecoderModel, ViTFeatureExtractor, AutoTokenizer\n",
    "import torch \n",
    "from dill import dump,load\n",
    "from PIL import Image\n",
    "import streamlit as st"
   ]
  },
  {
   "cell_type": "code",
   "execution_count": 2,
   "id": "b631d184",
   "metadata": {},
   "outputs": [
    {
     "name": "stderr",
     "output_type": "stream",
     "text": [
      "C:\\Users\\nihaz\\anaconda3\\lib\\site-packages\\transformers\\models\\vit\\feature_extraction_vit.py:28: FutureWarning: The class ViTFeatureExtractor is deprecated and will be removed in version 5 of Transformers. Please use ViTImageProcessor instead.\n",
      "  warnings.warn(\n"
     ]
    }
   ],
   "source": [
    "model = VisionEncoderDecoderModel.from_pretrained('nlpconnect/vit-gpt2-image-captioning')\n",
    "dump(model,open('model.pkl','wb'))\n",
    "\n",
    "feature_extractor = ViTFeatureExtractor.from_pretrained('nlpconnect/vit-gpt2-image-captioning')\n",
    "dump(feature_extractor,open('Feature_extractor.pkl','wb'))\n",
    "\n",
    "tokenizer = AutoTokenizer.from_pretrained('nlpconnect/vit-gpt2-image-captioning')\n",
    "dump(tokenizer,open('tokenizer.pkl','wb'))"
   ]
  },
  {
   "cell_type": "code",
   "execution_count": 3,
   "id": "40597a14",
   "metadata": {},
   "outputs": [],
   "source": [
    "device = torch.device('cuda' if torch.cuda.is_available() else 'cpu')\n",
    "model.to(device)\n",
    "\n",
    "dump(device,open('device.pkl','wb'))"
   ]
  },
  {
   "cell_type": "code",
   "execution_count": 4,
   "id": "3d8a0a22",
   "metadata": {},
   "outputs": [],
   "source": [
    "def gen_caption(image):\n",
    "    i_image = Image.open(image)\n",
    "    if i_image.mode != 'RGB':\n",
    "        i_image = i_image.convert('RGB')\n",
    "    pixel_values = feature_extractor(images = i_image, return_tensors='pt').pixel_values\n",
    "    pixel_values = pixel_values.to(device)\n",
    "\n",
    "    output_ids = model.generate(pixel_values, **{'max_length':20, 'num_beams': 6, 'num_return_sequences':3})\n",
    "\n",
    "    captions = tokenizer.batch_decode(output_ids, skip_special_tokens=True) \n",
    "    captions = [cap.strip() for cap in captions]\n",
    "    return captions\n",
    "\n",
    "\n",
    "\n",
    "def caption_0(image):\n",
    "    generated_captions = gen_caption(image)\n",
    "    return generated_captions[0]\n",
    "\n",
    "\n",
    "\n",
    "def caption_1(image):\n",
    "    generated_captions = gen_caption(image)\n",
    "    return generated_captions[1]\n",
    "\n",
    "\n",
    "\n",
    "def caption_2(image):\n",
    "    generated_captions = gen_caption(image)\n",
    "    return generated_captions[2]\n",
    "\n",
    "dump(gen_caption,open('gen_caption.pkl','wb'))\n",
    "\n",
    "dump(caption_0,open('caption_0.pkl','wb'))\n",
    "\n",
    "dump(caption_1,open('caption_1.pkl','wb'))\n",
    "\n",
    "dump(caption_2,open('caption_2.pkl','wb'))"
   ]
  },
  {
   "cell_type": "code",
   "execution_count": null,
   "id": "6162cf5b",
   "metadata": {},
   "outputs": [],
   "source": [
    "!streamlit run app.py"
   ]
  },
  {
   "cell_type": "code",
   "execution_count": null,
   "id": "697873af",
   "metadata": {},
   "outputs": [],
   "source": []
  }
 ],
 "metadata": {
  "kernelspec": {
   "display_name": "Python 3 (ipykernel)",
   "language": "python",
   "name": "python3"
  },
  "language_info": {
   "codemirror_mode": {
    "name": "ipython",
    "version": 3
   },
   "file_extension": ".py",
   "mimetype": "text/x-python",
   "name": "python",
   "nbconvert_exporter": "python",
   "pygments_lexer": "ipython3",
   "version": "3.9.13"
  }
 },
 "nbformat": 4,
 "nbformat_minor": 5
}
